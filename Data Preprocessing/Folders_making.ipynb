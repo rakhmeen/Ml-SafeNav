{
 "cells": [
  {
   "cell_type": "code",
   "execution_count": 4,
   "metadata": {},
   "outputs": [
    {
     "name": "stdout",
     "output_type": "stream",
     "text": [
      "Files have been separated and moved to respective folders.\n"
     ]
    }
   ],
   "source": [
    "import os\n",
    "import shutil\n",
    "\n",
    "# Define the path to the source folder containing the files\n",
    "source_folder = r'foggy and calm sea\\Generation'\n",
    "image_folder = r'foggy and calm sea\\images'\n",
    "text_folder = r'foggy and calm sea\\text'\n",
    "\n",
    "# Create directories for images and text files if they don't exist\n",
    "if not os.path.exists(image_folder):\n",
    "    os.makedirs(image_folder)\n",
    "if not os.path.exists(text_folder):\n",
    "    os.makedirs(text_folder)\n",
    "\n",
    "# Get the list of files in the source folder\n",
    "files = os.listdir(source_folder)\n",
    "\n",
    "# Iterate through the files and move them to the respective directories\n",
    "for file in files:\n",
    "    if file.endswith(('.png', '.jpg', '.jpeg', '.bmp', '.gif')):\n",
    "        shutil.move(os.path.join(source_folder, file), os.path.join(image_folder, file))\n",
    "    elif file.endswith('.txt'):\n",
    "        shutil.move(os.path.join(source_folder, file), os.path.join(text_folder, file))\n",
    "\n",
    "print(\"Files have been separated and moved to respective folders.\")\n"
   ]
  }
 ],
 "metadata": {
  "kernelspec": {
   "display_name": "Python 3 (ipykernel)",
   "language": "python",
   "name": "python3"
  },
  "language_info": {
   "codemirror_mode": {
    "name": "ipython",
    "version": 3
   },
   "file_extension": ".py",
   "mimetype": "text/x-python",
   "name": "python",
   "nbconvert_exporter": "python",
   "pygments_lexer": "ipython3",
   "version": "3.12.4"
  }
 },
 "nbformat": 4,
 "nbformat_minor": 4
}
