{
  "cells": [
    {
      "cell_type": "code",
      "source": [
        "from google.colab import drive\n",
        "drive.mount('/content/drive')\n"
      ],
      "metadata": {
        "colab": {
          "base_uri": "https://localhost:8080/"
        },
        "id": "nlAXlRxegGT1",
        "outputId": "09fdcd81-b01a-4939-92c0-301ba9b176f0"
      },
      "execution_count": 1,
      "outputs": [
        {
          "output_type": "stream",
          "name": "stdout",
          "text": [
            "Mounted at /content/drive\n"
          ]
        }
      ]
    },
    {
      "cell_type": "code",
      "source": [
        "import os\n",
        "os.chdir('/content/drive/MyDrive/Trainyolo')"
      ],
      "metadata": {
        "id": "FAY4-u5ZgHdN"
      },
      "execution_count": 2,
      "outputs": []
    },
    {
      "cell_type": "code",
      "source": [
        "import os\n",
        "import xml.etree.ElementTree as ET\n",
        "from PIL import Image\n",
        "\n",
        "\n",
        "labels_dir = 'dataset/labels/train'\n",
        "images_dir = 'dataset/images/train'\n",
        "output_dir = 'dataset/annotations/train'\n",
        "\n",
        "\n",
        "os.makedirs(output_dir, exist_ok=True)\n",
        "\n",
        "\n",
        "class_names = [\"Containership\", \"Fishing_Vassel\", \"sailboat\", \"cruiseship\", \"dingyboat\", \"tugboat\", \"Yacht\"]\n",
        "\n",
        "def yolo_to_voc(yolo_bbox, img_width, img_height):\n",
        "    x_center, y_center, width, height = yolo_bbox\n",
        "    x_center *= img_width\n",
        "    y_center *= img_height\n",
        "    width *= img_width\n",
        "    height *= img_height\n",
        "\n",
        "    xmin = int(x_center - width / 2)\n",
        "    ymin = int(y_center - height / 2)\n",
        "    xmax = int(x_center + width / 2)\n",
        "    ymax = int(y_center + height / 2)\n",
        "\n",
        "    return [xmin, ymin, xmax, ymax]\n",
        "\n",
        "for label_file in os.listdir(labels_dir):\n",
        "\n",
        "    image_file = os.path.join(images_dir, label_file.replace('.txt', '.png'))\n",
        "    img = Image.open(image_file)\n",
        "    img_width, img_height = img.size\n",
        "\n",
        "\n",
        "    root = ET.Element(\"annotation\")\n",
        "\n",
        "\n",
        "    folder = ET.SubElement(root, \"folder\")\n",
        "    folder.text = os.path.basename(images_dir)\n",
        "\n",
        "\n",
        "    filename = ET.SubElement(root, \"filename\")\n",
        "    filename.text = os.path.basename(image_file)\n",
        "\n",
        "\n",
        "    size = ET.SubElement(root, \"size\")\n",
        "    width = ET.SubElement(size, \"width\")\n",
        "    width.text = str(img_width)\n",
        "    height = ET.SubElement(size, \"height\")\n",
        "    height.text = str(img_height)\n",
        "    depth = ET.SubElement(size, \"depth\")\n",
        "    depth.text = \"3\"  # Assuming RGB images\n",
        "\n",
        "    with open(os.path.join(labels_dir, label_file), 'r') as f:\n",
        "        for line in f:\n",
        "            class_id, x_center, y_center, width, height = map(float, line.strip().split())\n",
        "            class_name = class_names[int(class_id)]\n",
        "\n",
        "\n",
        "            xmin, ymin, xmax, ymax = yolo_to_voc([x_center, y_center, width, height], img_width, img_height)\n",
        "\n",
        "            obj = ET.SubElement(root, \"object\")\n",
        "            name = ET.SubElement(obj, \"name\")\n",
        "            name.text = class_name\n",
        "            bndbox = ET.SubElement(obj, \"bndbox\")\n",
        "            ET.SubElement(bndbox, \"xmin\").text = str(xmin)\n",
        "            ET.SubElement(bndbox, \"ymin\").text = str(ymin)\n",
        "            ET.SubElement(bndbox, \"xmax\").text = str(xmax)\n",
        "            ET.SubElement(bndbox, \"ymax\").text = str(ymax)\n",
        "\n",
        "\n",
        "    tree = ET.ElementTree(root)\n",
        "    output_file = os.path.join(output_dir, label_file.replace('.txt', '.xml'))\n",
        "    tree.write(output_file)\n"
      ],
      "metadata": {
        "id": "4mqfen1FX_AM"
      },
      "execution_count": 3,
      "outputs": []
    },
    {
      "cell_type": "code",
      "source": [
        "import torch\n",
        "import torchvision.transforms as T\n",
        "from torchvision.transforms import functional as F\n",
        "from PIL import Image\n",
        "import xml.etree.ElementTree as ET\n",
        "import os\n",
        "\n",
        "class VOCDataset(torch.utils.data.Dataset):\n",
        "    def __init__(self, images_dir, annotations_dir, transforms=None, class_names=None):\n",
        "        self.images_dir = images_dir\n",
        "        self.annotations_dir = annotations_dir\n",
        "        self.transforms = transforms\n",
        "        self.class_names = class_names if class_names else []\n",
        "        self.image_files = [f for f in os.listdir(images_dir) if f.endswith('.png') or f.endswith('.jpg')]\n",
        "\n",
        "    def __len__(self):\n",
        "        return len(self.image_files)\n",
        "\n",
        "    def __getitem__(self, idx):\n",
        "        img_path = os.path.join(self.images_dir, self.image_files[idx])\n",
        "        annotation_path = os.path.join(self.annotations_dir, self.image_files[idx].replace('.png', '.xml').replace('.jpg', '.xml'))\n",
        "\n",
        "\n",
        "        img = Image.open(img_path).convert(\"RGB\")\n",
        "\n",
        "\n",
        "        tree = ET.parse(annotation_path)\n",
        "        root = tree.getroot()\n",
        "\n",
        "        boxes = []\n",
        "        labels = []\n",
        "\n",
        "        for obj in root.findall('object'):\n",
        "            label = obj.find('name').text\n",
        "            if label not in self.class_names:\n",
        "                continue\n",
        "\n",
        "            label_id = self.class_names.index(label)\n",
        "\n",
        "            bbox = obj.find('bndbox')\n",
        "            xmin = int(bbox.find('xmin').text)\n",
        "            ymin = int(bbox.find('ymin').text)\n",
        "            xmax = int(bbox.find('xmax').text)\n",
        "            ymax = int(bbox.find('ymax').text)\n",
        "\n",
        "\n",
        "            xmin, ymin = max(0, xmin), max(0, ymin)\n",
        "\n",
        "            boxes.append([xmin, ymin, xmax, ymax])\n",
        "            labels.append(label_id)\n",
        "\n",
        "        boxes = torch.as_tensor(boxes, dtype=torch.float32)\n",
        "        labels = torch.as_tensor(labels, dtype=torch.int64)\n",
        "\n",
        "        target = {\"boxes\": boxes, \"labels\": labels}\n",
        "\n",
        "        # Apply transforms, including converting the image to a tensor\n",
        "        if self.transforms:\n",
        "            img = self.transforms(img)\n",
        "        else:\n",
        "            img = T.ToTensor()(img)  # Default transformation to convert PIL image to tensor\n",
        "\n",
        "        return img, target\n",
        "\n",
        "def collate_fn(batch):\n",
        "    images, targets = zip(*batch)\n",
        "    return list(images), list(targets)\n",
        "\n",
        "\n",
        "train_dataset = VOCDataset(\n",
        "    images_dir=\"dataset/images/train\",\n",
        "    annotations_dir=\"dataset/annotations/train\",\n",
        "    class_names=[\"Containership\", \"Fishing_Vassel\", \"sailboat\", \"cruiseship\", \"dingyboat\", \"tugboat\", \"Yacht\"],\n",
        "    transforms=T.ToTensor()\n",
        ")\n",
        "\n",
        "val_dataset = VOCDataset(\n",
        "    images_dir=\"dataset/images/val\",\n",
        "    annotations_dir=\"dataset/annotations/val\",\n",
        "    class_names=[\"Containership\", \"Fishing_Vassel\", \"sailboat\", \"cruiseship\", \"dingyboat\", \"tugboat\", \"Yacht\"],\n",
        "    transforms=T.ToTensor()\n",
        ")\n",
        "\n",
        "\n",
        "train_loader = torch.utils.data.DataLoader(train_dataset, batch_size=4, shuffle=True, num_workers=2, collate_fn=collate_fn)\n",
        "val_loader = torch.utils.data.DataLoader(val_dataset, batch_size=4, shuffle=False, num_workers=2, collate_fn=collate_fn)\n"
      ],
      "metadata": {
        "id": "2GXVXxBGgEgM"
      },
      "execution_count": 4,
      "outputs": []
    },
    {
      "cell_type": "code",
      "source": [
        "!pip install torchvision"
      ],
      "metadata": {
        "colab": {
          "base_uri": "https://localhost:8080/"
        },
        "id": "W59KMS9xYJL4",
        "outputId": "a097e120-668d-4554-b475-9d9a0fe8a7c8"
      },
      "execution_count": 5,
      "outputs": [
        {
          "output_type": "stream",
          "name": "stdout",
          "text": [
            "Requirement already satisfied: torchvision in /usr/local/lib/python3.10/dist-packages (0.19.0+cu121)\n",
            "Requirement already satisfied: numpy in /usr/local/lib/python3.10/dist-packages (from torchvision) (1.26.4)\n",
            "Requirement already satisfied: torch==2.4.0 in /usr/local/lib/python3.10/dist-packages (from torchvision) (2.4.0+cu121)\n",
            "Requirement already satisfied: pillow!=8.3.*,>=5.3.0 in /usr/local/lib/python3.10/dist-packages (from torchvision) (9.4.0)\n",
            "Requirement already satisfied: filelock in /usr/local/lib/python3.10/dist-packages (from torch==2.4.0->torchvision) (3.15.4)\n",
            "Requirement already satisfied: typing-extensions>=4.8.0 in /usr/local/lib/python3.10/dist-packages (from torch==2.4.0->torchvision) (4.12.2)\n",
            "Requirement already satisfied: sympy in /usr/local/lib/python3.10/dist-packages (from torch==2.4.0->torchvision) (1.13.2)\n",
            "Requirement already satisfied: networkx in /usr/local/lib/python3.10/dist-packages (from torch==2.4.0->torchvision) (3.3)\n",
            "Requirement already satisfied: jinja2 in /usr/local/lib/python3.10/dist-packages (from torch==2.4.0->torchvision) (3.1.4)\n",
            "Requirement already satisfied: fsspec in /usr/local/lib/python3.10/dist-packages (from torch==2.4.0->torchvision) (2024.6.1)\n",
            "Requirement already satisfied: MarkupSafe>=2.0 in /usr/local/lib/python3.10/dist-packages (from jinja2->torch==2.4.0->torchvision) (2.1.5)\n",
            "Requirement already satisfied: mpmath<1.4,>=1.1.0 in /usr/local/lib/python3.10/dist-packages (from sympy->torch==2.4.0->torchvision) (1.3.0)\n"
          ]
        }
      ]
    },
    {
      "cell_type": "code",
      "source": [
        "import os\n",
        "import torch\n",
        "import matplotlib.pyplot as plt\n",
        "import torchvision\n",
        "from torchvision.models.detection import fasterrcnn_resnet50_fpn\n",
        "\n",
        "\n",
        "num_classes = 8  # 7 classes + 1 background\n",
        "model = fasterrcnn_resnet50_fpn(pretrained=True)\n",
        "in_features = model.roi_heads.box_predictor.cls_score.in_features\n",
        "model.roi_heads.box_predictor = torchvision.models.detection.faster_rcnn.FastRCNNPredictor(in_features, num_classes)\n",
        "\n",
        "device = torch.device('cuda') if torch.cuda.is_available() else torch.device('cpu')\n",
        "model.to(device)\n",
        "\n",
        "\n",
        "optimizer = torch.optim.SGD(model.parameters(), lr=0.005, momentum=0.9, weight_decay=0.0005)\n",
        "\n",
        "\n",
        "train_losses = []\n",
        "\n",
        "\n",
        "num_epochs = 5\n",
        "\n",
        "\n",
        "save_path = \"model_weights\"\n",
        "os.makedirs(save_path, exist_ok=True)\n",
        "\n",
        "\n",
        "for epoch in range(num_epochs):\n",
        "    model.train()\n",
        "    epoch_loss = 0.0\n",
        "\n",
        "    for images, targets in train_loader:\n",
        "        images = list(image.to(device) for image in images)\n",
        "        targets = [{k: v.to(device) for k, v in t.items()} for t in targets]\n",
        "\n",
        "\n",
        "        loss_dict = model(images, targets)\n",
        "        losses = sum(loss for loss in loss_dict.values())\n",
        "\n",
        "        optimizer.zero_grad()\n",
        "        losses.backward()\n",
        "        optimizer.step()\n",
        "\n",
        "        epoch_loss += losses.item()\n",
        "\n",
        "\n",
        "    avg_epoch_loss = epoch_loss / len(train_loader)\n",
        "    train_losses.append(avg_epoch_loss)\n",
        "\n",
        "\n",
        "    torch.save(model.state_dict(), f\"{save_path}/faster_rcnn_epoch_{epoch+1}.pth\")\n",
        "\n",
        "    print(f\"Epoch {epoch+1}, Loss: {avg_epoch_loss}\")\n",
        "\n",
        "plt.figure(figsize=(10, 5))\n",
        "plt.plot(range(1, num_epochs + 1), train_losses, marker='o', linestyle='-', color='b')\n",
        "plt.title(\"Training Loss per Epoch\")\n",
        "plt.xlabel(\"Epoch\")\n",
        "plt.ylabel(\"Loss\")\n",
        "plt.grid(True)\n",
        "plt.savefig(\"training_loss_graph.png\")\n",
        "plt.show()\n"
      ],
      "metadata": {
        "colab": {
          "base_uri": "https://localhost:8080/",
          "height": 698
        },
        "id": "J1d7HxSCgEit",
        "outputId": "b049dbae-5835-4550-e14c-77927175ab62"
      },
      "execution_count": 6,
      "outputs": [
        {
          "output_type": "stream",
          "name": "stderr",
          "text": [
            "/usr/local/lib/python3.10/dist-packages/torchvision/models/_utils.py:208: UserWarning: The parameter 'pretrained' is deprecated since 0.13 and may be removed in the future, please use 'weights' instead.\n",
            "  warnings.warn(\n",
            "/usr/local/lib/python3.10/dist-packages/torchvision/models/_utils.py:223: UserWarning: Arguments other than a weight enum or `None` for 'weights' are deprecated since 0.13 and may be removed in the future. The current behavior is equivalent to passing `weights=FasterRCNN_ResNet50_FPN_Weights.COCO_V1`. You can also use `weights=FasterRCNN_ResNet50_FPN_Weights.DEFAULT` to get the most up-to-date weights.\n",
            "  warnings.warn(msg)\n",
            "Downloading: \"https://download.pytorch.org/models/fasterrcnn_resnet50_fpn_coco-258fb6c6.pth\" to /root/.cache/torch/hub/checkpoints/fasterrcnn_resnet50_fpn_coco-258fb6c6.pth\n",
            "100%|██████████| 160M/160M [00:03<00:00, 53.1MB/s]\n"
          ]
        },
        {
          "output_type": "stream",
          "name": "stdout",
          "text": [
            "Epoch 1, Loss: 0.43944584009784343\n",
            "Epoch 2, Loss: 0.2769141527865905\n",
            "Epoch 3, Loss: 0.22260287045576413\n",
            "Epoch 4, Loss: 0.18269365415298103\n",
            "Epoch 5, Loss: 0.160646805128407\n"
          ]
        },
        {
          "output_type": "display_data",
          "data": {
            "text/plain": [
              "<Figure size 1000x500 with 1 Axes>"
            ],
            "image/png": "[encoded data removed]"
          },
          "metadata": {}
        }
      ]
    },
    {
      "cell_type": "code",
      "source": [],
      "metadata": {
        "id": "wcqHA3tYgEl7"
      },
      "execution_count": null,
      "outputs": []
    },
    {
      "cell_type": "code",
      "source": [],
      "metadata": {
        "id": "pHzzJLEqgEpF"
      },
      "execution_count": null,
      "outputs": []
    }
  ],
  "metadata": {
    "accelerator": "GPU",
    "colab": {
      "gpuType": "T4",
      "provenance": []
    },
    "kernelspec": {
      "display_name": "Python 3",
      "name": "python3"
    },
    "language_info": {
      "name": "python"
    }
  },
  "nbformat": 4,
  "nbformat_minor": 0
}